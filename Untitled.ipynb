{
 "cells": [
  {
   "cell_type": "code",
   "execution_count": 11,
   "id": "89a06b99",
   "metadata": {},
   "outputs": [],
   "source": [
    "import requests\n",
    "import json\n",
    "from pprint import pprint\n",
    "from api_keys import api_key\n"
   ]
  },
  {
   "cell_type": "code",
   "execution_count": 24,
   "id": "d7ef4060",
   "metadata": {},
   "outputs": [
    {
     "name": "stdout",
     "output_type": "stream",
     "text": [
      "{'message': 'Limit Exceeded'}\n"
     ]
    }
   ],
   "source": [
    "import requests\n",
    "import json\n",
    "from pprint import pprint\n",
    "from api_keys import api_key\n",
    "\n",
    "url = 'https://api.crimeometer.com/v1/incidents/stats'\n",
    "headers = {\n",
    "    'Content-Type': 'application/json',\n",
    "    'x-api-key': api_key\n",
    "}\n",
    "params = {\n",
    "    'lat': 28.1489,\n",
    "    'lon':-80.5884,\n",
    "\n",
    "    'datetime_ini': '2019-01-01 00:00:00',\n",
    "    'datetime_end': '2019-12-31 00:00:00',\n",
    "    'distance': '5mi',\n",
    "    'page': 1\n",
    "}\n",
    "\n",
    "response = requests.get(url, headers=headers, params=params)\n",
    "\n",
    "# Print the response in pretty format\n",
    "pprint(json.loads(response.text))\n"
   ]
  },
  {
   "cell_type": "code",
   "execution_count": 25,
   "id": "129e588c",
   "metadata": {},
   "outputs": [
    {
     "name": "stdout",
     "output_type": "stream",
     "text": [
      "{'message': 'Limit Exceeded'}\n"
     ]
    }
   ],
   "source": [
    "\n",
    "import requests\n",
    "import json\n",
    "from pprint import pprint\n",
    "from api_keys import api_key\n",
    "\n",
    "url = 'https://api.crimeometer.com/v1/incidents/stats'\n",
    "headers = {\n",
    "    'Content-Type': 'application/json',\n",
    "    'x-api-key': api_key\n",
    "}\n",
    "params = {\n",
    "    'lat': 41.9777476245164,\n",
    "    'lon': -87.6472903440513,\n",
    "    'datetime_ini': '2019-01-01 00:00:00',\n",
    "    'datetime_end': '2019-12-31 00:00:00',\n",
    "    'distance': '5mi',\n",
    "    'page': 1\n",
    "}\n",
    "\n",
    "response = requests.get(url, headers=headers, params=params)\n",
    "\n",
    "# Print the response in pretty format\n",
    "pprint(json.loads(response.text))\n",
    "\n"
   ]
  },
  {
   "cell_type": "code",
   "execution_count": null,
   "id": "b3705db1",
   "metadata": {},
   "outputs": [],
   "source": []
  }
 ],
 "metadata": {
  "kernelspec": {
   "display_name": "Python 3 (ipykernel)",
   "language": "python",
   "name": "python3"
  },
  "language_info": {
   "codemirror_mode": {
    "name": "ipython",
    "version": 3
   },
   "file_extension": ".py",
   "mimetype": "text/x-python",
   "name": "python",
   "nbconvert_exporter": "python",
   "pygments_lexer": "ipython3",
   "version": "3.9.13"
  }
 },
 "nbformat": 4,
 "nbformat_minor": 5
}
